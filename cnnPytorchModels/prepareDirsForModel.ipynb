{
 "cells": [
  {
   "cell_type": "code",
   "execution_count": 3,
   "metadata": {},
   "outputs": [],
   "source": [
    "# https://www.kaggle.com/kishor1210/gala-image-classification dataset"
   ]
  },
  {
   "cell_type": "code",
   "execution_count": 4,
   "metadata": {},
   "outputs": [],
   "source": [
    "# read the train csv file and see the data type\n",
    "\n",
    "import pandas as pd"
   ]
  },
  {
   "cell_type": "code",
   "execution_count": 5,
   "metadata": {},
   "outputs": [],
   "source": [
    "trainCsv= pd.read_csv('train.csv')"
   ]
  },
  {
   "cell_type": "code",
   "execution_count": 6,
   "metadata": {},
   "outputs": [
    {
     "data": {
      "text/html": [
       "<div>\n",
       "<style scoped>\n",
       "    .dataframe tbody tr th:only-of-type {\n",
       "        vertical-align: middle;\n",
       "    }\n",
       "\n",
       "    .dataframe tbody tr th {\n",
       "        vertical-align: top;\n",
       "    }\n",
       "\n",
       "    .dataframe thead th {\n",
       "        text-align: right;\n",
       "    }\n",
       "</style>\n",
       "<table border=\"1\" class=\"dataframe\">\n",
       "  <thead>\n",
       "    <tr style=\"text-align: right;\">\n",
       "      <th></th>\n",
       "      <th>Image</th>\n",
       "      <th>Class</th>\n",
       "    </tr>\n",
       "  </thead>\n",
       "  <tbody>\n",
       "    <tr>\n",
       "      <th>0</th>\n",
       "      <td>image7042.jpg</td>\n",
       "      <td>Food</td>\n",
       "    </tr>\n",
       "    <tr>\n",
       "      <th>1</th>\n",
       "      <td>image3327.jpg</td>\n",
       "      <td>misc</td>\n",
       "    </tr>\n",
       "    <tr>\n",
       "      <th>2</th>\n",
       "      <td>image10335.jpg</td>\n",
       "      <td>Attire</td>\n",
       "    </tr>\n",
       "    <tr>\n",
       "      <th>3</th>\n",
       "      <td>image8019.jpg</td>\n",
       "      <td>Food</td>\n",
       "    </tr>\n",
       "    <tr>\n",
       "      <th>4</th>\n",
       "      <td>image2128.jpg</td>\n",
       "      <td>Attire</td>\n",
       "    </tr>\n",
       "  </tbody>\n",
       "</table>\n",
       "</div>"
      ],
      "text/plain": [
       "            Image   Class\n",
       "0   image7042.jpg    Food\n",
       "1   image3327.jpg    misc\n",
       "2  image10335.jpg  Attire\n",
       "3   image8019.jpg    Food\n",
       "4   image2128.jpg  Attire"
      ]
     },
     "execution_count": 6,
     "metadata": {},
     "output_type": "execute_result"
    }
   ],
   "source": [
    "trainCsv.head()"
   ]
  },
  {
   "cell_type": "code",
   "execution_count": 7,
   "metadata": {},
   "outputs": [
    {
     "name": "stdout",
     "output_type": "stream",
     "text": [
      "5983\n",
      "['image4103.jpg', 'image7849.jpg', 'image5820.jpg', 'image5852.jpg', 'image5558.jpg', 'image625.jpg', 'image9835.jpg', 'image1061.jpg', 'image4655.jpg', 'image10767.jpg']\n"
     ]
    }
   ],
   "source": [
    "dataDirPath=\"./dataset/train\"\n",
    "\n",
    "import os\n",
    "allImage=os.listdir(dataDirPath)\n",
    "print(len(allImage))\n",
    "\n",
    "print(allImage[-10:])"
   ]
  },
  {
   "cell_type": "code",
   "execution_count": 10,
   "metadata": {},
   "outputs": [
    {
     "data": {
      "text/plain": [
       "array(['Food', 'misc', 'Attire', 'Decorationandsignage'], dtype=object)"
      ]
     },
     "execution_count": 10,
     "metadata": {},
     "output_type": "execute_result"
    }
   ],
   "source": [
    "trainCsv['Class'].unique()"
   ]
  },
  {
   "cell_type": "code",
   "execution_count": 12,
   "metadata": {},
   "outputs": [
    {
     "data": {
      "text/plain": [
       "{'Food': 0       image7042.jpg\n",
       " 3       image8019.jpg\n",
       " 6       image6750.jpg\n",
       " 7       image5508.jpg\n",
       " 8       image9571.jpg\n",
       "             ...      \n",
       " 5972    image1197.jpg\n",
       " 5975    image9903.jpg\n",
       " 5978    image2494.jpg\n",
       " 5980    image4975.jpg\n",
       " 5981    image1222.jpg\n",
       " Name: Image, Length: 2278, dtype: object, 'Misc': 1       image3327.jpg\n",
       " 5       image1106.jpg\n",
       " 17      image3892.jpg\n",
       " 25      image6553.jpg\n",
       " 29      image8146.jpg\n",
       "             ...      \n",
       " 5945    image1645.jpg\n",
       " 5950    image6436.jpg\n",
       " 5955      image27.jpg\n",
       " 5969    image6323.jpg\n",
       " 5976    image9873.jpg\n",
       " Name: Image, Length: 1271, dtype: object, 'Attire': 2       image10335.jpg\n",
       " 4        image2128.jpg\n",
       " 10       image1719.jpg\n",
       " 16       image2008.jpg\n",
       " 20       image5544.jpg\n",
       "              ...      \n",
       " 5968     image3060.jpg\n",
       " 5974     image5882.jpg\n",
       " 5977     image4148.jpg\n",
       " 5979     image8015.jpg\n",
       " 5982     image9635.jpg\n",
       " Name: Image, Length: 1691, dtype: object, 'Decorationandsignage': 11        image61.jpg\n",
       " 13       image129.jpg\n",
       " 21      image1854.jpg\n",
       " 32      image9384.jpg\n",
       " 34      image7522.jpg\n",
       "             ...      \n",
       " 5926    image4491.jpg\n",
       " 5954    image2625.jpg\n",
       " 5959    image6711.jpg\n",
       " 5971    image2070.jpg\n",
       " 5973    image4978.jpg\n",
       " Name: Image, Length: 743, dtype: object}"
      ]
     },
     "execution_count": 12,
     "metadata": {},
     "output_type": "execute_result"
    }
   ],
   "source": [
    "allClassImages={}\n",
    "\n",
    "emotion=list(trainCsv['Class'].unique())\n",
    "\n",
    "for eachEmotion in emotion:\n",
    "    currentEmotion=\"{}\".format(eachEmotion.capitalize())\n",
    "    allClassImages[currentEmotion]=trainCsv[trainCsv['Class']==eachEmotion]['Image']\n",
    "allClassImages"
   ]
  },
  {
   "cell_type": "code",
   "execution_count": 13,
   "metadata": {
    "scrolled": true
   },
   "outputs": [],
   "source": [
    "# # map frameId to images, from frame0 to image_0\n",
    "# for key in allClassImages.keys():\n",
    "#     imagesName=[]\n",
    "#     for item in allClassImages[key]:\n",
    "#         frameNumber=item[5:]\n",
    "#         imageName=\"image_{}\".format(frameNumber)\n",
    "#         imagesName.append(imageName)\n",
    "#     allClassImages[key]=imagesName\n",
    "# allClassImages"
   ]
  },
  {
   "cell_type": "code",
   "execution_count": 14,
   "metadata": {
    "scrolled": false
   },
   "outputs": [],
   "source": [
    "# make 4 dirs in train dir, and each dir is an emotion and thus corresponding images\n",
    "\n",
    "for folder in allClassImages.keys():\n",
    "    os.makedirs(dataDirPath+\"/\"+folder,exist_ok=True)\n",
    "\n",
    "sourceFolder=dataDirPath\n",
    "import shutil\n",
    "for key in allClassImages.keys():\n",
    "    destinationFolder=dataDirPath+\"/\"+key\n",
    "\n",
    "    for imagePath in allClassImages[key]:\n",
    "        shutil.move(\"{}/{}\".format(sourceFolder,imagePath),\"{}/{}\".format(destinationFolder,imagePath))\n"
   ]
  },
  {
   "cell_type": "code",
   "execution_count": 15,
   "metadata": {},
   "outputs": [
    {
     "name": "stdout",
     "output_type": "stream",
     "text": [
      "in dir Food we have 2278 images \n",
      "in dir Misc we have 1271 images \n",
      "in dir Attire we have 1691 images \n",
      "in dir Decorationandsignage we have 743 images \n"
     ]
    }
   ],
   "source": [
    "for key in allClassImages:\n",
    "    print (\"in dir {} we have {} images \".format(key,len(allClassImages[key])))"
   ]
  },
  {
   "cell_type": "markdown",
   "metadata": {},
   "source": [
    "## Images are usurely imbalanced, thus we have imbalanced dataset\n",
    "\n",
    "We would take 0.3 images for validation and 0.7 images for traning"
   ]
  },
  {
   "cell_type": "code",
   "execution_count": 16,
   "metadata": {},
   "outputs": [
    {
     "ename": "NameError",
     "evalue": "name 'allEmotionImages' is not defined",
     "output_type": "error",
     "traceback": [
      "\u001b[0;31m---------------------------------------------------------------------------\u001b[0m",
      "\u001b[0;31mNameError\u001b[0m                                 Traceback (most recent call last)",
      "\u001b[0;32m<ipython-input-16-9ba3d93ef7be>\u001b[0m in \u001b[0;36m<module>\u001b[0;34m\u001b[0m\n\u001b[1;32m      3\u001b[0m \u001b[0mrandom\u001b[0m\u001b[0;34m.\u001b[0m\u001b[0mseed\u001b[0m\u001b[0;34m(\u001b[0m\u001b[0;36m7\u001b[0m\u001b[0;34m)\u001b[0m\u001b[0;34m\u001b[0m\u001b[0;34m\u001b[0m\u001b[0m\n\u001b[1;32m      4\u001b[0m \u001b[0;34m\u001b[0m\u001b[0m\n\u001b[0;32m----> 5\u001b[0;31m \u001b[0;32mfor\u001b[0m \u001b[0mkey\u001b[0m \u001b[0;32min\u001b[0m \u001b[0mallEmotionImages\u001b[0m\u001b[0;34m.\u001b[0m\u001b[0mkeys\u001b[0m\u001b[0;34m(\u001b[0m\u001b[0;34m)\u001b[0m\u001b[0;34m:\u001b[0m\u001b[0;34m\u001b[0m\u001b[0;34m\u001b[0m\u001b[0m\n\u001b[0m\u001b[1;32m      6\u001b[0m     \u001b[0msourceFolder\u001b[0m\u001b[0;34m=\u001b[0m\u001b[0;34m\"./data/train/{}\"\u001b[0m\u001b[0;34m.\u001b[0m\u001b[0mformat\u001b[0m\u001b[0;34m(\u001b[0m\u001b[0mkey\u001b[0m\u001b[0;34m)\u001b[0m\u001b[0;34m\u001b[0m\u001b[0;34m\u001b[0m\u001b[0m\n\u001b[1;32m      7\u001b[0m     \u001b[0mdestinationFolder\u001b[0m\u001b[0;34m=\u001b[0m\u001b[0mrootdestinationFolder\u001b[0m\u001b[0;34m+\u001b[0m\u001b[0mkey\u001b[0m\u001b[0;34m\u001b[0m\u001b[0;34m\u001b[0m\u001b[0m\n",
      "\u001b[0;31mNameError\u001b[0m: name 'allEmotionImages' is not defined"
     ]
    }
   ],
   "source": [
    "rootdestinationFolder=\"./data/val/\"\n",
    "import random \n",
    "random.seed(7)\n",
    "\n",
    "for key in allEmotionImages.keys():\n",
    "    sourceFolder=\"./data/train/{}\".format(key)\n",
    "    destinationFolder=rootdestinationFolder+key\n",
    "    os.makedirs(destinationFolder,exist_ok=True)\n",
    "    allFiles= os.listdir(sourceFolder)\n",
    "    random.shuffle(allFiles) # shuffle the list\n",
    "    threshold=int (len(allFiles)*0.7)\n",
    "    val_files=allFiles[threshold:]\n",
    "    \n",
    "    for file in val_files:\n",
    "        shutil.move(sourceFolder+\"/\"+file,destinationFolder+\"/\"+file)\n",
    "#         print(sourceFolder+\"/\"+file,destinationFolder+\"/\"+file)\n",
    "    "
   ]
  },
  {
   "cell_type": "code",
   "execution_count": null,
   "metadata": {},
   "outputs": [],
   "source": []
  }
 ],
 "metadata": {
  "kernelspec": {
   "display_name": "Python 3",
   "language": "python",
   "name": "python3"
  },
  "language_info": {
   "codemirror_mode": {
    "name": "ipython",
    "version": 3
   },
   "file_extension": ".py",
   "mimetype": "text/x-python",
   "name": "python",
   "nbconvert_exporter": "python",
   "pygments_lexer": "ipython3",
   "version": "3.7.3"
  }
 },
 "nbformat": 4,
 "nbformat_minor": 2
}
